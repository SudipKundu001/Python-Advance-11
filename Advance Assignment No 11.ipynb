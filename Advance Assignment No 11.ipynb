{
 "cells": [
  {
   "cell_type": "markdown",
   "id": "b8953788",
   "metadata": {},
   "source": [
    ">__Q1. What is the concept of a metaclass?__"
   ]
  },
  {
   "cell_type": "markdown",
   "id": "bb873d8b",
   "metadata": {},
   "source": [
    "Ans.  A metaclass in Python is a class of a class that defines how a class behaves. A class is itself an instance of a metaclass. A class in Python defines how the instance of the class will behave. In order to understand metaclasses well, one needs to have prior experience working with Python classes."
   ]
  },
  {
   "cell_type": "markdown",
   "id": "5a997f3f",
   "metadata": {},
   "source": [
    ">__Q2. What is the best way to declare a class's metaclass?__"
   ]
  },
  {
   "cell_type": "markdown",
   "id": "a6a4cb10",
   "metadata": {},
   "source": [
    "Ans.  When you create an object by calling the class, Python creates a new class (when it executes the 'class' statement) by calling the metaclass."
   ]
  },
  {
   "cell_type": "markdown",
   "id": "60e5c5cd",
   "metadata": {},
   "source": [
    ">__Q3. How do class decorators overlap with metaclasses for handling classes?__"
   ]
  },
  {
   "cell_type": "markdown",
   "id": "b1cfe73b",
   "metadata": {},
   "source": [
    "Ans.  In this specific case—adding methods to a class when it's created—the choice between metaclasses and decorators is somewhat arbitrary. Decorators can be used to manage both instances and classes, and they intersect with metaclasses in the second of these roles"
   ]
  },
  {
   "cell_type": "markdown",
   "id": "3220c53d",
   "metadata": {},
   "source": [
    ">__Q4. How do class decorators overlap with metaclasses for handling instances?__"
   ]
  },
  {
   "cell_type": "markdown",
   "id": "9fe34b31",
   "metadata": {},
   "source": [
    "Ans. In this specific case—adding methods to a class when it's created—the choice between metaclasses and decorators is somewhat arbitrary. Decorators can be used to manage both instances and classes, and they intersect with metaclasses in the second of these roles"
   ]
  }
 ],
 "metadata": {
  "kernelspec": {
   "display_name": "Python 3",
   "language": "python",
   "name": "python3"
  },
  "language_info": {
   "codemirror_mode": {
    "name": "ipython",
    "version": 3
   },
   "file_extension": ".py",
   "mimetype": "text/x-python",
   "name": "python",
   "nbconvert_exporter": "python",
   "pygments_lexer": "ipython3",
   "version": "3.8.8"
  }
 },
 "nbformat": 4,
 "nbformat_minor": 5
}
